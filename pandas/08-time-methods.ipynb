{
 "cells": [
  {
   "cell_type": "markdown",
   "id": "70e9d05a",
   "metadata": {},
   "source": [
    "Exploring Date Time Methods"
   ]
  },
  {
   "cell_type": "code",
   "execution_count": 1,
   "id": "93d763ab",
   "metadata": {},
   "outputs": [],
   "source": [
    "import pandas as pd\n",
    "import numpy as np\n",
    "\n",
    "from datetime import datetime"
   ]
  },
  {
   "cell_type": "code",
   "execution_count": 9,
   "id": "42997498",
   "metadata": {},
   "outputs": [],
   "source": [
    "time_ser = pd.Series(['Nov 10, 1993', 'Feb 1, 1998', 'Oct 15, 1970', 'Sep 21, 2021', 'Dec 9, 1987'])"
   ]
  },
  {
   "cell_type": "code",
   "execution_count": 10,
   "id": "1512f421",
   "metadata": {},
   "outputs": [
    {
     "data": {
      "text/plain": [
       "0    Nov 10, 1993\n",
       "1     Feb 1, 1998\n",
       "2    Oct 15, 1970\n",
       "3    Sep 21, 2021\n",
       "4     Dec 9, 1987\n",
       "dtype: object"
      ]
     },
     "execution_count": 10,
     "metadata": {},
     "output_type": "execute_result"
    }
   ],
   "source": [
    "time_ser"
   ]
  },
  {
   "cell_type": "code",
   "execution_count": 11,
   "id": "8a141536",
   "metadata": {},
   "outputs": [],
   "source": [
    "time_ser = pd.to_datetime(time_ser)"
   ]
  },
  {
   "cell_type": "code",
   "execution_count": 12,
   "id": "2e85b7fa",
   "metadata": {},
   "outputs": [
    {
     "data": {
      "text/plain": [
       "0   1993-11-10\n",
       "1   1998-02-01\n",
       "2   1970-10-15\n",
       "3   2021-09-21\n",
       "4   1987-12-09\n",
       "dtype: datetime64[ns]"
      ]
     },
     "execution_count": 12,
     "metadata": {},
     "output_type": "execute_result"
    }
   ],
   "source": [
    "time_ser"
   ]
  },
  {
   "cell_type": "code",
   "execution_count": 13,
   "id": "148540a8",
   "metadata": {},
   "outputs": [
    {
     "data": {
      "text/plain": [
       "11"
      ]
     },
     "execution_count": 13,
     "metadata": {},
     "output_type": "execute_result"
    }
   ],
   "source": [
    "time_ser[0].month"
   ]
  }
 ],
 "metadata": {
  "kernelspec": {
   "display_name": "base",
   "language": "python",
   "name": "python3"
  },
  "language_info": {
   "codemirror_mode": {
    "name": "ipython",
    "version": 3
   },
   "file_extension": ".py",
   "mimetype": "text/x-python",
   "name": "python",
   "nbconvert_exporter": "python",
   "pygments_lexer": "ipython3",
   "version": "3.13.5"
  }
 },
 "nbformat": 4,
 "nbformat_minor": 5
}
