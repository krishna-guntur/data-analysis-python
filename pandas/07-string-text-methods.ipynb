{
 "cells": [
  {
   "cell_type": "code",
   "execution_count": 4,
   "id": "fcd2fe22",
   "metadata": {},
   "outputs": [],
   "source": [
    "import numpy as np\n",
    "import pandas as pd"
   ]
  },
  {
   "cell_type": "code",
   "execution_count": 5,
   "id": "7bd8bddb",
   "metadata": {},
   "outputs": [],
   "source": [
    "email = 'krish@email.com'\n",
    "names = pd.Series(['Bruce Wayne', 'Clark Kent', 'Barry Allen', 'Hal Jordan', 'Diana Prince'])"
   ]
  },
  {
   "cell_type": "code",
   "execution_count": 6,
   "id": "052f411e",
   "metadata": {},
   "outputs": [
    {
     "data": {
      "text/plain": [
       "0     Bruce Wayne\n",
       "1      Clark Kent\n",
       "2     Barry Allen\n",
       "3      Hal Jordan\n",
       "4    Diana Prince\n",
       "dtype: object"
      ]
     },
     "execution_count": 6,
     "metadata": {},
     "output_type": "execute_result"
    }
   ],
   "source": [
    "names"
   ]
  },
  {
   "cell_type": "code",
   "execution_count": 7,
   "id": "bca0f9b3",
   "metadata": {},
   "outputs": [
    {
     "data": {
      "text/plain": [
       "0    False\n",
       "1    False\n",
       "2    False\n",
       "3    False\n",
       "4    False\n",
       "dtype: bool"
      ]
     },
     "execution_count": 7,
     "metadata": {},
     "output_type": "execute_result"
    }
   ],
   "source": [
    "names.str.isnumeric()"
   ]
  },
  {
   "cell_type": "code",
   "execution_count": 8,
   "id": "36f6b154",
   "metadata": {},
   "outputs": [
    {
     "data": {
      "text/plain": [
       "0    False\n",
       "1    False\n",
       "2    False\n",
       "3    False\n",
       "4    False\n",
       "dtype: bool"
      ]
     },
     "execution_count": 8,
     "metadata": {},
     "output_type": "execute_result"
    }
   ],
   "source": [
    "names.str.isupper()"
   ]
  },
  {
   "cell_type": "code",
   "execution_count": 9,
   "id": "ee81833a",
   "metadata": {},
   "outputs": [
    {
     "data": {
      "text/plain": [
       "0     BRUCE WAYNE\n",
       "1      CLARK KENT\n",
       "2     BARRY ALLEN\n",
       "3      HAL JORDAN\n",
       "4    DIANA PRINCE\n",
       "dtype: object"
      ]
     },
     "execution_count": 9,
     "metadata": {},
     "output_type": "execute_result"
    }
   ],
   "source": [
    "names.str.upper()"
   ]
  },
  {
   "cell_type": "code",
   "execution_count": 10,
   "id": "9548652a",
   "metadata": {},
   "outputs": [],
   "source": [
    "stocks = ['ICICI, HDFC, AXIS,KOTAK,SBI',\n",
    "          'TCS, WIPRO,HCL']"
   ]
  },
  {
   "cell_type": "code",
   "execution_count": 15,
   "id": "dcd579fa",
   "metadata": {},
   "outputs": [
    {
     "data": {
      "text/plain": [
       "['ICICI', ' HDFC', ' AXIS', 'KOTAK', 'SBI']"
      ]
     },
     "execution_count": 15,
     "metadata": {},
     "output_type": "execute_result"
    }
   ],
   "source": [
    "split_stocks_1 = stocks[0].split(',')\n",
    "split_stocks_1"
   ]
  },
  {
   "cell_type": "code",
   "execution_count": 16,
   "id": "55615ebc",
   "metadata": {},
   "outputs": [
    {
     "data": {
      "text/plain": [
       "0    ICICI\n",
       "1     HDFC\n",
       "2     AXIS\n",
       "3    KOTAK\n",
       "4      SBI\n",
       "dtype: object"
      ]
     },
     "execution_count": 16,
     "metadata": {},
     "output_type": "execute_result"
    }
   ],
   "source": [
    "stock_ser = pd.Series(split_stocks_1)\n",
    "stock_ser"
   ]
  },
  {
   "cell_type": "code",
   "execution_count": 22,
   "id": "5c1c37ab",
   "metadata": {},
   "outputs": [
    {
     "data": {
      "text/plain": [
       "0     ICICI\n",
       "1      HDFC\n",
       "2      AXIS\n",
       "3     KOTAK\n",
       "4       SBI\n",
       "5       TCS\n",
       "6     WIPRO\n",
       "7       HCL\n",
       "dtype: object"
      ]
     },
     "execution_count": 22,
     "metadata": {},
     "output_type": "execute_result"
    }
   ],
   "source": [
    "split_stocks_2 = stocks[1].split(',')\n",
    "\n",
    "pd.concat([stock_ser, pd.Series(split_stocks_2)], ignore_index=1)\n",
    "#split_stocks_2\n",
    "#stock_ser"
   ]
  },
  {
   "cell_type": "code",
   "execution_count": null,
   "id": "5b9b7989",
   "metadata": {},
   "outputs": [],
   "source": []
  }
 ],
 "metadata": {
  "kernelspec": {
   "display_name": "base",
   "language": "python",
   "name": "python3"
  },
  "language_info": {
   "codemirror_mode": {
    "name": "ipython",
    "version": 3
   },
   "file_extension": ".py",
   "mimetype": "text/x-python",
   "name": "python",
   "nbconvert_exporter": "python",
   "pygments_lexer": "ipython3",
   "version": "3.13.5"
  }
 },
 "nbformat": 4,
 "nbformat_minor": 5
}
